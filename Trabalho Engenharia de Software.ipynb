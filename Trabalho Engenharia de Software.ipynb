{
 "cells": [
  {
   "cell_type": "code",
   "execution_count": null,
   "id": "da7b5cc2",
   "metadata": {},
   "outputs": [],
   "source": [
    "'''\n",
    "Nome: Marcos Paulo \n",
    "Engenharia de Software\n",
    "BS - INF0701N - 2023-1\n",
    "'''\n",
    "\n",
    "while True:\n",
    "    print(\"\\n\\n=== MENU ===\")\n",
    "    print(\"1 - Encontrar o maior número entre dois números\")\n",
    "    print(\"2 - Verificar se um número é positivo ou negativo\")\n",
    "    print(\"3 - Verificar se uma letra é vogal ou consoante\")\n",
    "    print(\"4 - Encontrar o maior número entre três números\")\n",
    "    print(\"0 - Sair\")\n",
    "    \n",
    "    opcao = int(input(\"Digite a opção desejada: \"))\n",
    "    \n",
    "    if opcao == 1:\n",
    "        num1 = float(input(\"Digite o primeiro número: \"))\n",
    "        num2 = float(input(\"Digite o segundo número: \"))\n",
    "        if num1 > num2:\n",
    "            print(\"O maior número é\", num1)\n",
    "        else:\n",
    "            print(\"O maior número é\", num2)\n",
    "    \n",
    "    elif opcao == 2:\n",
    "        num = float(input(\"Digite um número: \"))\n",
    "        if num > 0:\n",
    "            print(\"O número é positivo\")\n",
    "        elif num < 0:\n",
    "            print(\"O número é negativo\")\n",
    "        else:\n",
    "            print(\"O número é zero\")\n",
    "    \n",
    "    elif opcao == 3:\n",
    "        letra = input(\"Digite uma letra: \").lower()\n",
    "        if letra in \"aeiou\":\n",
    "            print(letra,\" é uma vogal\")\n",
    "        else:\n",
    "            print(letra,\" é uma consoante\")\n",
    "    \n",
    "    elif opcao == 4:\n",
    "        num1 = float(input(\"Digite o primeiro número: \"))\n",
    "        num2 = float(input(\"Digite o segundo número: \"))\n",
    "        num3 = float(input(\"Digite o terceiro número: \"))\n",
    "        if num1 > num2 and num1 > num3:\n",
    "            print(\"O maior número é\", num1)\n",
    "        elif num2 > num1 and num2 > num3:\n",
    "            print(\"O maior número é\", num2)\n",
    "        else:\n",
    "            print(\"O maior número é\", num3)\n",
    "    \n",
    "    elif opcao == 0:\n",
    "        print(\"Fechando...\")\n",
    "        break\n",
    "    \n",
    "    else:\n",
    "        print(\"Opção inválida\") \n"
   ]
  },
  {
   "cell_type": "code",
   "execution_count": null,
   "id": "a10d5b1e",
   "metadata": {},
   "outputs": [],
   "source": []
  },
  {
   "cell_type": "code",
   "execution_count": null,
   "id": "e3d60bb2",
   "metadata": {},
   "outputs": [],
   "source": []
  }
 ],
 "metadata": {
  "kernelspec": {
   "display_name": "Python 3 (ipykernel)",
   "language": "python",
   "name": "python3"
  },
  "language_info": {
   "codemirror_mode": {
    "name": "ipython",
    "version": 3
   },
   "file_extension": ".py",
   "mimetype": "text/x-python",
   "name": "python",
   "nbconvert_exporter": "python",
   "pygments_lexer": "ipython3",
   "version": "3.10.9"
  }
 },
 "nbformat": 4,
 "nbformat_minor": 5
}
